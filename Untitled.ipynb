{
 "cells": [
  {
   "cell_type": "code",
   "execution_count": 65,
   "metadata": {},
   "outputs": [],
   "source": [
    "import albertHeijnScraper as ahs\n",
    "from importlib import reload \n",
    "import requests\n",
    "from bs4 import BeautifulSoup\n",
    "import numpy as np"
   ]
  },
  {
   "cell_type": "code",
   "execution_count": 128,
   "metadata": {},
   "outputs": [],
   "source": [
    "ahs = reload(ahs)"
   ]
  },
  {
   "cell_type": "code",
   "execution_count": 4,
   "metadata": {},
   "outputs": [
    {
     "name": "stdout",
     "output_type": "stream",
     "text": [
      "15 items found\n"
     ]
    }
   ],
   "source": [
    "sens = ahs.get_products_from_page('https://www.ah.nl/zoeken?query=senseo')"
   ]
  },
  {
   "cell_type": "code",
   "execution_count": 8,
   "metadata": {
    "collapsed": true,
    "jupyter": {
     "outputs_hidden": true
    }
   },
   "outputs": [
    {
     "data": {
      "text/plain": [
       "[{'name': 'Senseo Classic koffiepads',\n",
       "  'link': 'https://www.ah.nl/producten/product/wi134315/senseo-classic-koffiepads',\n",
       "  'quantity': '36 stuks',\n",
       "  'promotion': '2e halve prijs',\n",
       "  'price': 4.19,\n",
       "  'price_discounted': nan},\n",
       " {'name': 'Senseo Cappuccino koffiepads',\n",
       "  'link': 'https://www.ah.nl/producten/product/wi197507/senseo-cappuccino-koffiepads',\n",
       "  'quantity': '8 stuks',\n",
       "  'promotion': '2e halve prijs',\n",
       "  'price': 2.59,\n",
       "  'price_discounted': nan},\n",
       " {'name': 'Senseo Extra strong koffiepads',\n",
       "  'link': 'https://www.ah.nl/producten/product/wi140098/senseo-extra-strong-koffiepads',\n",
       "  'quantity': '36 stuks',\n",
       "  'promotion': '2e halve prijs',\n",
       "  'price': 4.19,\n",
       "  'price_discounted': nan},\n",
       " {'name': 'Senseo Strong koffiepads',\n",
       "  'link': 'https://www.ah.nl/producten/product/wi134312/senseo-strong-koffiepads',\n",
       "  'quantity': '36 stuks',\n",
       "  'promotion': '2e halve prijs',\n",
       "  'price': 4.19,\n",
       "  'price_discounted': nan},\n",
       " {'name': 'Senseo Mocca gourmet koffiepads',\n",
       "  'link': 'https://www.ah.nl/producten/product/wi134309/senseo-mocca-gourmet-koffiepads',\n",
       "  'quantity': '36 stuks',\n",
       "  'promotion': '2e halve prijs',\n",
       "  'price': 4.19,\n",
       "  'price_discounted': nan},\n",
       " {'name': 'Senseo Decaf koffiepads',\n",
       "  'link': 'https://www.ah.nl/producten/product/wi134310/senseo-decaf-koffiepads',\n",
       "  'quantity': '36 stuks',\n",
       "  'promotion': '2e halve prijs',\n",
       "  'price': 4.19,\n",
       "  'price_discounted': nan},\n",
       " {'name': 'Senseo Mild koffiepads',\n",
       "  'link': 'https://www.ah.nl/producten/product/wi134314/senseo-mild-koffiepads',\n",
       "  'quantity': '36 stuks',\n",
       "  'promotion': '2e halve prijs',\n",
       "  'price': 4.19,\n",
       "  'price_discounted': nan},\n",
       " {'name': 'Senseo Pads gold',\n",
       "  'link': 'https://www.ah.nl/producten/product/wi470952/senseo-pads-gold',\n",
       "  'quantity': '36 stuks',\n",
       "  'promotion': '2e halve prijs',\n",
       "  'price': 4.19,\n",
       "  'price_discounted': nan},\n",
       " {'name': 'Senseo Espresso koffiepads',\n",
       "  'link': 'https://www.ah.nl/producten/product/wi381305/senseo-espresso-koffiepads',\n",
       "  'quantity': '36 stuks',\n",
       "  'promotion': '2e halve prijs',\n",
       "  'price': 4.19,\n",
       "  'price_discounted': nan},\n",
       " {'name': 'Senseo Café latte koffiepads',\n",
       "  'link': 'https://www.ah.nl/producten/product/wi196701/senseo-cafe-latte-koffiepads',\n",
       "  'quantity': '8 stuks',\n",
       "  'promotion': '2e halve prijs',\n",
       "  'price': 2.59,\n",
       "  'price_discounted': nan},\n",
       " {'name': 'Senseo Cappuccino choco koffiepads',\n",
       "  'link': 'https://www.ah.nl/producten/product/wi197509/senseo-cappuccino-choco-koffiepads',\n",
       "  'quantity': '8 stuks',\n",
       "  'promotion': '2e halve prijs',\n",
       "  'price': 2.59,\n",
       "  'price_discounted': nan},\n",
       " {'name': 'Senseo Pads cappuccino caramel',\n",
       "  'link': 'https://www.ah.nl/producten/product/wi470953/senseo-pads-cappuccino-caramel',\n",
       "  'quantity': '8 stuks',\n",
       "  'promotion': '2e halve prijs',\n",
       "  'price': 2.59,\n",
       "  'price_discounted': nan},\n",
       " {'name': 'Senseo Latte macchiato classic koffiepads',\n",
       "  'link': 'https://www.ah.nl/producten/product/wi430602/senseo-latte-macchiato-classic-koffiepads',\n",
       "  'quantity': '10 stuks',\n",
       "  'promotion': 'online. 35% Op=Op korting',\n",
       "  'price': 2.59,\n",
       "  'price_discounted': 1.68},\n",
       " {'name': 'Senseo Café latte vanilla koffiepads',\n",
       "  'link': 'https://www.ah.nl/producten/product/wi420290/senseo-cafe-latte-vanilla-koffiepads',\n",
       "  'quantity': '8 stuks',\n",
       "  'promotion': '2e halve prijs',\n",
       "  'price': 2.59,\n",
       "  'price_discounted': nan},\n",
       " {'name': 'Philips Senseo ontkalker CA6521/00',\n",
       "  'link': 'https://www.ah.nl/producten/product/wi467866/philips-senseo-ontkalker-ca6521-00',\n",
       "  'quantity': 'per stuk',\n",
       "  'promotion': '',\n",
       "  'price': 11.99,\n",
       "  'price_discounted': nan}]"
      ]
     },
     "execution_count": 8,
     "metadata": {},
     "output_type": "execute_result"
    }
   ],
   "source": [
    "sens"
   ]
  },
  {
   "cell_type": "code",
   "execution_count": 28,
   "metadata": {},
   "outputs": [
    {
     "name": "stdout",
     "output_type": "stream",
     "text": [
      "Searching through http://www.ah.nl/producten/aardappel-groente-fruit?&sortBy=price&minPrice=0&maxPrice=120&page=55 ...\n",
      "1000 items found\n",
      "Searching through http://www.ah.nl/producten/aardappel-groente-fruit?&sortBy=price&minPrice=3.49&maxPrice=120&page=56 ...\n",
      "117 items found\n",
      "Searching through http://www.ah.nl/producten/verse-kant-en-klaar-maaltijden-salades?&sortBy=price&minPrice=0&maxPrice=120&page=55 ...\n",
      "615 items found\n",
      "Searching through http://www.ah.nl/producten/vlees-kip-vis-vega?&sortBy=price&minPrice=0&maxPrice=120&page=55 ...\n",
      "942 items found\n",
      "Searching through http://www.ah.nl/producten/kaas-vleeswaren-delicatessen?&sortBy=price&minPrice=0&maxPrice=120&page=55 ...\n",
      "1000 items found\n",
      "Searching through http://www.ah.nl/producten/kaas-vleeswaren-delicatessen?&sortBy=price&minPrice=2.99&maxPrice=120&page=56 ...\n",
      "461 items found\n",
      "Searching through http://www.ah.nl/producten/zuivel-eieren?&sortBy=price&minPrice=0&maxPrice=120&page=55 ...\n",
      "1000 items found\n",
      "Searching through http://www.ah.nl/producten/zuivel-eieren?&sortBy=price&minPrice=5.13&maxPrice=120&page=56 ...\n",
      "66 items found\n",
      "Searching through http://www.ah.nl/producten/bakkerij?&sortBy=price&minPrice=0&maxPrice=120&page=55 ...\n",
      "901 items found\n",
      "Searching through http://www.ah.nl/producten/ontbijtgranen-broodbeleg-tussendoor?&sortBy=price&minPrice=0&maxPrice=120&page=55 ...\n",
      "1000 items found\n",
      "Searching through http://www.ah.nl/producten/ontbijtgranen-broodbeleg-tussendoor?&sortBy=price&minPrice=2.29&maxPrice=120&page=56 ...\n",
      "891 items found\n",
      "Searching through http://www.ah.nl/producten/frisdrank-sappen-koffie-thee?&sortBy=price&minPrice=0&maxPrice=120&page=55 ...\n",
      "1000 items found\n",
      "Searching through http://www.ah.nl/producten/frisdrank-sappen-koffie-thee?&sortBy=price&minPrice=2.15&maxPrice=120&page=56 ...\n",
      "887 items found\n",
      "Searching through http://www.ah.nl/producten/wijn?&sortBy=price&minPrice=0&maxPrice=120&page=55 ...\n",
      "1000 items found\n",
      "Searching through http://www.ah.nl/producten/wijn?&sortBy=price&minPrice=14.98&maxPrice=120&page=56 ...\n",
      "206 items found\n",
      "Searching through http://www.ah.nl/producten/bier-sterke-drank-aperitieven?&sortBy=price&minPrice=0&maxPrice=120&page=55 ...\n",
      "1000 items found\n",
      "Searching through http://www.ah.nl/producten/bier-sterke-drank-aperitieven?&sortBy=price&minPrice=40.99&maxPrice=120&page=56 ...\n",
      "40 items found\n",
      "Searching through http://www.ah.nl/producten/pasta-rijst-internationale-keuken?&sortBy=price&minPrice=0&maxPrice=120&page=55 ...\n",
      "1000 items found\n",
      "Searching through http://www.ah.nl/producten/pasta-rijst-internationale-keuken?&sortBy=price&minPrice=1.99&maxPrice=120&page=56 ...\n",
      "1000 items found\n",
      "Searching through http://www.ah.nl/producten/pasta-rijst-internationale-keuken?&sortBy=price&minPrice=8.39&maxPrice=120&page=57 ...\n",
      "21 items found\n",
      "Searching through http://www.ah.nl/producten/soepen-sauzen-kruiden-olie?&sortBy=price&minPrice=0&maxPrice=120&page=55 ...\n",
      "1000 items found\n",
      "Searching through http://www.ah.nl/producten/soepen-sauzen-kruiden-olie?&sortBy=price&minPrice=1.59&maxPrice=120&page=56 ...\n",
      "1000 items found\n",
      "Searching through http://www.ah.nl/producten/soepen-sauzen-kruiden-olie?&sortBy=price&minPrice=2.99&maxPrice=120&page=57 ...\n",
      "382 items found\n",
      "Searching through http://www.ah.nl/producten/snoep-koek-chips?&sortBy=price&minPrice=0&maxPrice=120&page=55 ...\n",
      "1000 items found\n",
      "Searching through http://www.ah.nl/producten/snoep-koek-chips?&sortBy=price&minPrice=1.69&maxPrice=120&page=56 ...\n",
      "1000 items found\n",
      "Searching through http://www.ah.nl/producten/snoep-koek-chips?&sortBy=price&minPrice=2.49&maxPrice=120&page=57 ...\n",
      "769 items found\n",
      "Searching through http://www.ah.nl/producten/diepvries?&sortBy=price&minPrice=0&maxPrice=120&page=55 ...\n",
      "944 items found\n",
      "Searching through http://www.ah.nl/producten/drogisterij-baby?&sortBy=price&minPrice=0&maxPrice=120&page=55 ...\n",
      "1000 items found\n",
      "Searching through http://www.ah.nl/producten/drogisterij-baby?&sortBy=price&minPrice=2.99&maxPrice=120&page=56 ...\n",
      "1000 items found\n",
      "Searching through http://www.ah.nl/producten/drogisterij-baby?&sortBy=price&minPrice=4.99&maxPrice=120&page=57 ...\n",
      "1000 items found\n",
      "Searching through http://www.ah.nl/producten/drogisterij-baby?&sortBy=price&minPrice=7.99&maxPrice=120&page=58 ...\n",
      "1000 items found\n",
      "Searching through http://www.ah.nl/producten/drogisterij-baby?&sortBy=price&minPrice=16.99&maxPrice=120&page=59 ...\n",
      "400 items found\n",
      "Searching through http://www.ah.nl/producten/bewuste-voeding?&sortBy=price&minPrice=0&maxPrice=120&page=55 ...\n",
      "751 items found\n",
      "Searching through http://www.ah.nl/producten/huishouden-huisdier?&sortBy=price&minPrice=0&maxPrice=120&page=55 ...\n",
      "1000 items found\n",
      "Searching through http://www.ah.nl/producten/huishouden-huisdier?&sortBy=price&minPrice=4.29&maxPrice=120&page=56 ...\n",
      "463 items found\n",
      "Searching through http://www.ah.nl/producten/koken-tafelen-non-food?&sortBy=price&minPrice=0&maxPrice=120&page=55 ...\n",
      "1000 items found\n",
      "Searching through http://www.ah.nl/producten/koken-tafelen-non-food?&sortBy=price&minPrice=7.0&maxPrice=120&page=56 ...\n",
      "345 items found\n"
     ]
    }
   ],
   "source": [
    "cat = ahs.get_categories()\n",
    "products = ahs.get_products_from_categories(cat)\n",
    "product_df = ahs.product_dict_to_df(products)"
   ]
  },
  {
   "cell_type": "code",
   "execution_count": 29,
   "metadata": {},
   "outputs": [
    {
     "data": {
      "text/html": [
       "<div>\n",
       "<style scoped>\n",
       "    .dataframe tbody tr th:only-of-type {\n",
       "        vertical-align: middle;\n",
       "    }\n",
       "\n",
       "    .dataframe tbody tr th {\n",
       "        vertical-align: top;\n",
       "    }\n",
       "\n",
       "    .dataframe thead th {\n",
       "        text-align: right;\n",
       "    }\n",
       "</style>\n",
       "<table border=\"1\" class=\"dataframe\">\n",
       "  <thead>\n",
       "    <tr style=\"text-align: right;\">\n",
       "      <th></th>\n",
       "      <th>name</th>\n",
       "      <th>link</th>\n",
       "      <th>quantity</th>\n",
       "      <th>promotion</th>\n",
       "      <th>price</th>\n",
       "      <th>price_discounted</th>\n",
       "      <th>label</th>\n",
       "      <th>discount_percentage</th>\n",
       "      <th>discount</th>\n",
       "    </tr>\n",
       "  </thead>\n",
       "  <tbody>\n",
       "    <tr>\n",
       "      <th>0</th>\n",
       "      <td>AH Winterpeen</td>\n",
       "      <td>https://www.ah.nl/producten/product/wi99036/ah...</td>\n",
       "      <td>per stuk</td>\n",
       "      <td></td>\n",
       "      <td>0.35</td>\n",
       "      <td>NaN</td>\n",
       "      <td>Aardappel, groente, fruit</td>\n",
       "      <td>NaN</td>\n",
       "      <td>NaN</td>\n",
       "    </tr>\n",
       "    <tr>\n",
       "      <th>1</th>\n",
       "      <td>AH Rode peper</td>\n",
       "      <td>https://www.ah.nl/producten/product/wi387770/a...</td>\n",
       "      <td>per stuk</td>\n",
       "      <td></td>\n",
       "      <td>0.39</td>\n",
       "      <td>NaN</td>\n",
       "      <td>Aardappel, groente, fruit</td>\n",
       "      <td>NaN</td>\n",
       "      <td>NaN</td>\n",
       "    </tr>\n",
       "    <tr>\n",
       "      <th>2</th>\n",
       "      <td>AH Jalapeño peper groen</td>\n",
       "      <td>https://www.ah.nl/producten/product/wi415244/a...</td>\n",
       "      <td>Per stuk</td>\n",
       "      <td></td>\n",
       "      <td>0.39</td>\n",
       "      <td>NaN</td>\n",
       "      <td>Aardappel, groente, fruit</td>\n",
       "      <td>NaN</td>\n",
       "      <td>NaN</td>\n",
       "    </tr>\n",
       "    <tr>\n",
       "      <th>3</th>\n",
       "      <td>AH Boerenkool deelblokjes</td>\n",
       "      <td>https://www.ah.nl/producten/product/wi98974/ah...</td>\n",
       "      <td>450 g</td>\n",
       "      <td></td>\n",
       "      <td>0.40</td>\n",
       "      <td>NaN</td>\n",
       "      <td>Aardappel, groente, fruit</td>\n",
       "      <td>NaN</td>\n",
       "      <td>NaN</td>\n",
       "    </tr>\n",
       "    <tr>\n",
       "      <th>4</th>\n",
       "      <td>AH Jalapeño peper rood</td>\n",
       "      <td>https://www.ah.nl/producten/product/wi415238/a...</td>\n",
       "      <td>per stuk</td>\n",
       "      <td></td>\n",
       "      <td>0.40</td>\n",
       "      <td>NaN</td>\n",
       "      <td>Aardappel, groente, fruit</td>\n",
       "      <td>NaN</td>\n",
       "      <td>NaN</td>\n",
       "    </tr>\n",
       "    <tr>\n",
       "      <th>...</th>\n",
       "      <td>...</td>\n",
       "      <td>...</td>\n",
       "      <td>...</td>\n",
       "      <td>...</td>\n",
       "      <td>...</td>\n",
       "      <td>...</td>\n",
       "      <td>...</td>\n",
       "      <td>...</td>\n",
       "      <td>...</td>\n",
       "    </tr>\n",
       "    <tr>\n",
       "      <th>27637</th>\n",
       "      <td>Tutti Mistral Home Donkerblauw 2-persoons botanic</td>\n",
       "      <td>https://www.ah.nl/producten/product/wi485397/t...</td>\n",
       "      <td>per stuk</td>\n",
       "      <td>50% KORTING</td>\n",
       "      <td>39.90</td>\n",
       "      <td>19.95</td>\n",
       "      <td>Koken, tafelen, vrije tijd</td>\n",
       "      <td>50.0</td>\n",
       "      <td>19.95</td>\n",
       "    </tr>\n",
       "    <tr>\n",
       "      <th>27638</th>\n",
       "      <td>Tefal Revelation Plus wokpan 28cm</td>\n",
       "      <td>https://www.ah.nl/producten/product/wi468038/t...</td>\n",
       "      <td>per stuk</td>\n",
       "      <td></td>\n",
       "      <td>39.95</td>\n",
       "      <td>NaN</td>\n",
       "      <td>Koken, tafelen, vrije tijd</td>\n",
       "      <td>NaN</td>\n",
       "      <td>NaN</td>\n",
       "    </tr>\n",
       "    <tr>\n",
       "      <th>27639</th>\n",
       "      <td>Van Kempen &amp; Begeer Gourmetset</td>\n",
       "      <td>https://www.ah.nl/producten/product/wi483676/v...</td>\n",
       "      <td>per stuk</td>\n",
       "      <td></td>\n",
       "      <td>39.99</td>\n",
       "      <td>NaN</td>\n",
       "      <td>Koken, tafelen, vrije tijd</td>\n",
       "      <td>NaN</td>\n",
       "      <td>NaN</td>\n",
       "    </tr>\n",
       "    <tr>\n",
       "      <th>27640</th>\n",
       "      <td>Van Kempen &amp; Begeer Gietijzeren braadpan 26 cm</td>\n",
       "      <td>https://www.ah.nl/producten/product/wi483677/v...</td>\n",
       "      <td>per stuk</td>\n",
       "      <td></td>\n",
       "      <td>39.99</td>\n",
       "      <td>NaN</td>\n",
       "      <td>Koken, tafelen, vrije tijd</td>\n",
       "      <td>NaN</td>\n",
       "      <td>NaN</td>\n",
       "    </tr>\n",
       "    <tr>\n",
       "      <th>27641</th>\n",
       "      <td>Philips Blender HR2157/93</td>\n",
       "      <td>https://www.ah.nl/producten/product/wi467864/p...</td>\n",
       "      <td>per stuk</td>\n",
       "      <td>online. Default 1</td>\n",
       "      <td>59.99</td>\n",
       "      <td>NaN</td>\n",
       "      <td>Koken, tafelen, vrije tijd</td>\n",
       "      <td>NaN</td>\n",
       "      <td>NaN</td>\n",
       "    </tr>\n",
       "  </tbody>\n",
       "</table>\n",
       "<p>27642 rows × 9 columns</p>\n",
       "</div>"
      ],
      "text/plain": [
       "                                                    name  \\\n",
       "0                                          AH Winterpeen   \n",
       "1                                          AH Rode peper   \n",
       "2                                AH Jalapeño peper groen   \n",
       "3                              AH Boerenkool deelblokjes   \n",
       "4                                 AH Jalapeño peper rood   \n",
       "...                                                  ...   \n",
       "27637  Tutti Mistral Home Donkerblauw 2-persoons botanic   \n",
       "27638                  Tefal Revelation Plus wokpan 28cm   \n",
       "27639                     Van Kempen & Begeer Gourmetset   \n",
       "27640     Van Kempen & Begeer Gietijzeren braadpan 26 cm   \n",
       "27641                          Philips Blender HR2157/93   \n",
       "\n",
       "                                                    link  quantity  \\\n",
       "0      https://www.ah.nl/producten/product/wi99036/ah...  per stuk   \n",
       "1      https://www.ah.nl/producten/product/wi387770/a...  per stuk   \n",
       "2      https://www.ah.nl/producten/product/wi415244/a...  Per stuk   \n",
       "3      https://www.ah.nl/producten/product/wi98974/ah...     450 g   \n",
       "4      https://www.ah.nl/producten/product/wi415238/a...  per stuk   \n",
       "...                                                  ...       ...   \n",
       "27637  https://www.ah.nl/producten/product/wi485397/t...  per stuk   \n",
       "27638  https://www.ah.nl/producten/product/wi468038/t...  per stuk   \n",
       "27639  https://www.ah.nl/producten/product/wi483676/v...  per stuk   \n",
       "27640  https://www.ah.nl/producten/product/wi483677/v...  per stuk   \n",
       "27641  https://www.ah.nl/producten/product/wi467864/p...  per stuk   \n",
       "\n",
       "               promotion  price  price_discounted                       label  \\\n",
       "0                          0.35               NaN   Aardappel, groente, fruit   \n",
       "1                          0.39               NaN   Aardappel, groente, fruit   \n",
       "2                          0.39               NaN   Aardappel, groente, fruit   \n",
       "3                          0.40               NaN   Aardappel, groente, fruit   \n",
       "4                          0.40               NaN   Aardappel, groente, fruit   \n",
       "...                  ...    ...               ...                         ...   \n",
       "27637        50% KORTING  39.90             19.95  Koken, tafelen, vrije tijd   \n",
       "27638                     39.95               NaN  Koken, tafelen, vrije tijd   \n",
       "27639                     39.99               NaN  Koken, tafelen, vrije tijd   \n",
       "27640                     39.99               NaN  Koken, tafelen, vrije tijd   \n",
       "27641  online. Default 1  59.99               NaN  Koken, tafelen, vrije tijd   \n",
       "\n",
       "       discount_percentage  discount  \n",
       "0                      NaN       NaN  \n",
       "1                      NaN       NaN  \n",
       "2                      NaN       NaN  \n",
       "3                      NaN       NaN  \n",
       "4                      NaN       NaN  \n",
       "...                    ...       ...  \n",
       "27637                 50.0     19.95  \n",
       "27638                  NaN       NaN  \n",
       "27639                  NaN       NaN  \n",
       "27640                  NaN       NaN  \n",
       "27641                  NaN       NaN  \n",
       "\n",
       "[27642 rows x 9 columns]"
      ]
     },
     "execution_count": 29,
     "metadata": {},
     "output_type": "execute_result"
    }
   ],
   "source": [
    "product_df"
   ]
  },
  {
   "cell_type": "code",
   "execution_count": 30,
   "metadata": {},
   "outputs": [
    {
     "data": {
      "text/plain": [
       "'re%20re'"
      ]
     },
     "execution_count": 30,
     "metadata": {},
     "output_type": "execute_result"
    }
   ],
   "source": [
    "'re re'.replace(' ','%20')"
   ]
  },
  {
   "cell_type": "code",
   "execution_count": 34,
   "metadata": {},
   "outputs": [
    {
     "name": "stdout",
     "output_type": "stream",
     "text": [
      "Searching through https://www.ah.nl/zoeken?query=Senseo&sortBy=price&minPrice=0&maxPrice=120&page=55 ...\n",
      "15 items found\n"
     ]
    },
    {
     "data": {
      "text/html": [
       "<div>\n",
       "<style scoped>\n",
       "    .dataframe tbody tr th:only-of-type {\n",
       "        vertical-align: middle;\n",
       "    }\n",
       "\n",
       "    .dataframe tbody tr th {\n",
       "        vertical-align: top;\n",
       "    }\n",
       "\n",
       "    .dataframe thead th {\n",
       "        text-align: right;\n",
       "    }\n",
       "</style>\n",
       "<table border=\"1\" class=\"dataframe\">\n",
       "  <thead>\n",
       "    <tr style=\"text-align: right;\">\n",
       "      <th></th>\n",
       "      <th>name</th>\n",
       "      <th>link</th>\n",
       "      <th>quantity</th>\n",
       "      <th>promotion</th>\n",
       "      <th>price</th>\n",
       "      <th>price_discounted</th>\n",
       "      <th>discount_percentage</th>\n",
       "      <th>discount</th>\n",
       "    </tr>\n",
       "  </thead>\n",
       "  <tbody>\n",
       "    <tr>\n",
       "      <th>0</th>\n",
       "      <td>Senseo Cappuccino koffiepads</td>\n",
       "      <td>https://www.ah.nl/producten/product/wi197507/s...</td>\n",
       "      <td>8 stuks</td>\n",
       "      <td>2e halve prijs</td>\n",
       "      <td>2.59</td>\n",
       "      <td>NaN</td>\n",
       "      <td>NaN</td>\n",
       "      <td>NaN</td>\n",
       "    </tr>\n",
       "    <tr>\n",
       "      <th>1</th>\n",
       "      <td>Senseo Cappuccino choco koffiepads</td>\n",
       "      <td>https://www.ah.nl/producten/product/wi197509/s...</td>\n",
       "      <td>8 stuks</td>\n",
       "      <td>2e halve prijs</td>\n",
       "      <td>2.59</td>\n",
       "      <td>NaN</td>\n",
       "      <td>NaN</td>\n",
       "      <td>NaN</td>\n",
       "    </tr>\n",
       "    <tr>\n",
       "      <th>2</th>\n",
       "      <td>Senseo Café latte koffiepads</td>\n",
       "      <td>https://www.ah.nl/producten/product/wi196701/s...</td>\n",
       "      <td>8 stuks</td>\n",
       "      <td>2e halve prijs</td>\n",
       "      <td>2.59</td>\n",
       "      <td>NaN</td>\n",
       "      <td>NaN</td>\n",
       "      <td>NaN</td>\n",
       "    </tr>\n",
       "    <tr>\n",
       "      <th>3</th>\n",
       "      <td>Senseo Café latte vanilla koffiepads</td>\n",
       "      <td>https://www.ah.nl/producten/product/wi420290/s...</td>\n",
       "      <td>8 stuks</td>\n",
       "      <td>2e halve prijs</td>\n",
       "      <td>2.59</td>\n",
       "      <td>NaN</td>\n",
       "      <td>NaN</td>\n",
       "      <td>NaN</td>\n",
       "    </tr>\n",
       "    <tr>\n",
       "      <th>4</th>\n",
       "      <td>Senseo Latte macchiato classic koffiepads</td>\n",
       "      <td>https://www.ah.nl/producten/product/wi430602/s...</td>\n",
       "      <td>10 stuks</td>\n",
       "      <td>online. 35% Op=Op korting</td>\n",
       "      <td>2.59</td>\n",
       "      <td>1.68</td>\n",
       "      <td>35.135135</td>\n",
       "      <td>0.91</td>\n",
       "    </tr>\n",
       "    <tr>\n",
       "      <th>5</th>\n",
       "      <td>Senseo Pads cappuccino caramel</td>\n",
       "      <td>https://www.ah.nl/producten/product/wi470953/s...</td>\n",
       "      <td>8 stuks</td>\n",
       "      <td>2e halve prijs</td>\n",
       "      <td>2.59</td>\n",
       "      <td>NaN</td>\n",
       "      <td>NaN</td>\n",
       "      <td>NaN</td>\n",
       "    </tr>\n",
       "    <tr>\n",
       "      <th>6</th>\n",
       "      <td>Senseo Mocca gourmet koffiepads</td>\n",
       "      <td>https://www.ah.nl/producten/product/wi134309/s...</td>\n",
       "      <td>36 stuks</td>\n",
       "      <td>2e halve prijs</td>\n",
       "      <td>4.19</td>\n",
       "      <td>NaN</td>\n",
       "      <td>NaN</td>\n",
       "      <td>NaN</td>\n",
       "    </tr>\n",
       "    <tr>\n",
       "      <th>7</th>\n",
       "      <td>Senseo Decaf koffiepads</td>\n",
       "      <td>https://www.ah.nl/producten/product/wi134310/s...</td>\n",
       "      <td>36 stuks</td>\n",
       "      <td>2e halve prijs</td>\n",
       "      <td>4.19</td>\n",
       "      <td>NaN</td>\n",
       "      <td>NaN</td>\n",
       "      <td>NaN</td>\n",
       "    </tr>\n",
       "    <tr>\n",
       "      <th>8</th>\n",
       "      <td>Senseo Strong koffiepads</td>\n",
       "      <td>https://www.ah.nl/producten/product/wi134312/s...</td>\n",
       "      <td>36 stuks</td>\n",
       "      <td>2e halve prijs</td>\n",
       "      <td>4.19</td>\n",
       "      <td>NaN</td>\n",
       "      <td>NaN</td>\n",
       "      <td>NaN</td>\n",
       "    </tr>\n",
       "    <tr>\n",
       "      <th>9</th>\n",
       "      <td>Senseo Mild koffiepads</td>\n",
       "      <td>https://www.ah.nl/producten/product/wi134314/s...</td>\n",
       "      <td>36 stuks</td>\n",
       "      <td>2e halve prijs</td>\n",
       "      <td>4.19</td>\n",
       "      <td>NaN</td>\n",
       "      <td>NaN</td>\n",
       "      <td>NaN</td>\n",
       "    </tr>\n",
       "    <tr>\n",
       "      <th>10</th>\n",
       "      <td>Senseo Classic koffiepads</td>\n",
       "      <td>https://www.ah.nl/producten/product/wi134315/s...</td>\n",
       "      <td>36 stuks</td>\n",
       "      <td>2e halve prijs</td>\n",
       "      <td>4.19</td>\n",
       "      <td>NaN</td>\n",
       "      <td>NaN</td>\n",
       "      <td>NaN</td>\n",
       "    </tr>\n",
       "    <tr>\n",
       "      <th>11</th>\n",
       "      <td>Senseo Extra strong koffiepads</td>\n",
       "      <td>https://www.ah.nl/producten/product/wi140098/s...</td>\n",
       "      <td>36 stuks</td>\n",
       "      <td>2e halve prijs</td>\n",
       "      <td>4.19</td>\n",
       "      <td>NaN</td>\n",
       "      <td>NaN</td>\n",
       "      <td>NaN</td>\n",
       "    </tr>\n",
       "    <tr>\n",
       "      <th>12</th>\n",
       "      <td>Senseo Espresso koffiepads</td>\n",
       "      <td>https://www.ah.nl/producten/product/wi381305/s...</td>\n",
       "      <td>36 stuks</td>\n",
       "      <td>2e halve prijs</td>\n",
       "      <td>4.19</td>\n",
       "      <td>NaN</td>\n",
       "      <td>NaN</td>\n",
       "      <td>NaN</td>\n",
       "    </tr>\n",
       "    <tr>\n",
       "      <th>13</th>\n",
       "      <td>Senseo Pads gold</td>\n",
       "      <td>https://www.ah.nl/producten/product/wi470952/s...</td>\n",
       "      <td>36 stuks</td>\n",
       "      <td>2e halve prijs</td>\n",
       "      <td>4.19</td>\n",
       "      <td>NaN</td>\n",
       "      <td>NaN</td>\n",
       "      <td>NaN</td>\n",
       "    </tr>\n",
       "    <tr>\n",
       "      <th>14</th>\n",
       "      <td>Philips Senseo ontkalker CA6521/00</td>\n",
       "      <td>https://www.ah.nl/producten/product/wi467866/p...</td>\n",
       "      <td>per stuk</td>\n",
       "      <td></td>\n",
       "      <td>11.99</td>\n",
       "      <td>NaN</td>\n",
       "      <td>NaN</td>\n",
       "      <td>NaN</td>\n",
       "    </tr>\n",
       "  </tbody>\n",
       "</table>\n",
       "</div>"
      ],
      "text/plain": [
       "                                         name  \\\n",
       "0                Senseo Cappuccino koffiepads   \n",
       "1          Senseo Cappuccino choco koffiepads   \n",
       "2                Senseo Café latte koffiepads   \n",
       "3        Senseo Café latte vanilla koffiepads   \n",
       "4   Senseo Latte macchiato classic koffiepads   \n",
       "5              Senseo Pads cappuccino caramel   \n",
       "6             Senseo Mocca gourmet koffiepads   \n",
       "7                     Senseo Decaf koffiepads   \n",
       "8                    Senseo Strong koffiepads   \n",
       "9                      Senseo Mild koffiepads   \n",
       "10                  Senseo Classic koffiepads   \n",
       "11             Senseo Extra strong koffiepads   \n",
       "12                 Senseo Espresso koffiepads   \n",
       "13                           Senseo Pads gold   \n",
       "14         Philips Senseo ontkalker CA6521/00   \n",
       "\n",
       "                                                 link  quantity  \\\n",
       "0   https://www.ah.nl/producten/product/wi197507/s...   8 stuks   \n",
       "1   https://www.ah.nl/producten/product/wi197509/s...   8 stuks   \n",
       "2   https://www.ah.nl/producten/product/wi196701/s...   8 stuks   \n",
       "3   https://www.ah.nl/producten/product/wi420290/s...   8 stuks   \n",
       "4   https://www.ah.nl/producten/product/wi430602/s...  10 stuks   \n",
       "5   https://www.ah.nl/producten/product/wi470953/s...   8 stuks   \n",
       "6   https://www.ah.nl/producten/product/wi134309/s...  36 stuks   \n",
       "7   https://www.ah.nl/producten/product/wi134310/s...  36 stuks   \n",
       "8   https://www.ah.nl/producten/product/wi134312/s...  36 stuks   \n",
       "9   https://www.ah.nl/producten/product/wi134314/s...  36 stuks   \n",
       "10  https://www.ah.nl/producten/product/wi134315/s...  36 stuks   \n",
       "11  https://www.ah.nl/producten/product/wi140098/s...  36 stuks   \n",
       "12  https://www.ah.nl/producten/product/wi381305/s...  36 stuks   \n",
       "13  https://www.ah.nl/producten/product/wi470952/s...  36 stuks   \n",
       "14  https://www.ah.nl/producten/product/wi467866/p...  per stuk   \n",
       "\n",
       "                    promotion  price  price_discounted  discount_percentage  \\\n",
       "0              2e halve prijs   2.59               NaN                  NaN   \n",
       "1              2e halve prijs   2.59               NaN                  NaN   \n",
       "2              2e halve prijs   2.59               NaN                  NaN   \n",
       "3              2e halve prijs   2.59               NaN                  NaN   \n",
       "4   online. 35% Op=Op korting   2.59              1.68            35.135135   \n",
       "5              2e halve prijs   2.59               NaN                  NaN   \n",
       "6              2e halve prijs   4.19               NaN                  NaN   \n",
       "7              2e halve prijs   4.19               NaN                  NaN   \n",
       "8              2e halve prijs   4.19               NaN                  NaN   \n",
       "9              2e halve prijs   4.19               NaN                  NaN   \n",
       "10             2e halve prijs   4.19               NaN                  NaN   \n",
       "11             2e halve prijs   4.19               NaN                  NaN   \n",
       "12             2e halve prijs   4.19               NaN                  NaN   \n",
       "13             2e halve prijs   4.19               NaN                  NaN   \n",
       "14                             11.99               NaN                  NaN   \n",
       "\n",
       "    discount  \n",
       "0        NaN  \n",
       "1        NaN  \n",
       "2        NaN  \n",
       "3        NaN  \n",
       "4       0.91  \n",
       "5        NaN  \n",
       "6        NaN  \n",
       "7        NaN  \n",
       "8        NaN  \n",
       "9        NaN  \n",
       "10       NaN  \n",
       "11       NaN  \n",
       "12       NaN  \n",
       "13       NaN  \n",
       "14       NaN  "
      ]
     },
     "execution_count": 34,
     "metadata": {},
     "output_type": "execute_result"
    }
   ],
   "source": [
    "ahs.search_product('Senseo')"
   ]
  },
  {
   "cell_type": "code",
   "execution_count": 96,
   "metadata": {},
   "outputs": [],
   "source": [
    "url = 'https://www.ah.nl/producten/product/wi130876/coca-cola-light'\n",
    "req = requests.get(url)\n",
    "soup = BeautifulSoup(req.text,features=\"html.parser\")"
   ]
  },
  {
   "cell_type": "code",
   "execution_count": 77,
   "metadata": {},
   "outputs": [
    {
     "data": {
      "text/plain": [
       "'Jazz Appelen'"
      ]
     },
     "execution_count": 77,
     "metadata": {},
     "output_type": "execute_result"
    }
   ],
   "source": [
    "name = soup.find_all(class_=\"product-card-header_root__1GTl1\")[0].find('h1').find('span').contents[0]\n",
    "name"
   ]
  },
  {
   "cell_type": "code",
   "execution_count": 78,
   "metadata": {},
   "outputs": [
    {
     "data": {
      "text/plain": [
       "''"
      ]
     },
     "execution_count": 78,
     "metadata": {},
     "output_type": "execute_result"
    }
   ],
   "source": [
    "if len(soup.find_all(class_=\"product-card-header_unitPriceWithPadding__MonzR\")) == 0:\n",
    "    unit_price = ''\n",
    "else:\n",
    "    unit_price = ''.join(soup.find_all(class_=\"product-card-header_unitPriceWithPadding__MonzR\")[0].contents)\n",
    "unit_price"
   ]
  },
  {
   "cell_type": "code",
   "execution_count": 79,
   "metadata": {},
   "outputs": [
    {
     "data": {
      "text/plain": [
       "'4 stuks'"
      ]
     },
     "execution_count": 79,
     "metadata": {},
     "output_type": "execute_result"
    }
   ],
   "source": [
    "unit = soup.find_all(class_=\"product-card-header_unitInfo__2ncbP\")[0].contents[0]\n",
    "unit"
   ]
  },
  {
   "cell_type": "code",
   "execution_count": 82,
   "metadata": {},
   "outputs": [
    {
     "name": "stdout",
     "output_type": "stream",
     "text": [
      "True\n",
      "3.49\n",
      "2.69\n"
     ]
    }
   ],
   "source": [
    "is_promo_tag = soup.find_all(class_=\"price-amount_root__vE9dJ price-amount_was__1MqPG product-card-hero-price_was__1ZNtq\")\n",
    "if len(is_promo_tag) == 0:\n",
    "    promo = False\n",
    "    pricetag_orig = soup.find_all(class_=\"price-amount_root__vE9dJ product-card-hero-price_now__PlF9u\")[0]\n",
    "    price_orig = float(''.join([s.contents[0] for s in pricetag_orig.find_all('span')]))\n",
    "    price_promo = np.nan\n",
    "else:\n",
    "    promo = True\n",
    "    pricetag_promo = soup.find_all(class_=\"price-amount_root__vE9dJ price-amount_bonus__xJzk1 product-card-hero-price_now__PlF9u\")[0]\n",
    "    pricetag_orig = soup.find_all(class_=\"price-amount_root__vE9dJ price-amount_was__1MqPG product-card-hero-price_was__1ZNtq\")[0]\n",
    "    price_orig = float(''.join([s.contents[0] for s in pricetag_orig.find_all('span')]))\n",
    "    price_promo = float(''.join([s.contents[0] for s in pricetag_promo.find_all('span')]))\n",
    "print(promo)\n",
    "print(price_orig)\n",
    "print(price_promo)"
   ]
  },
  {
   "cell_type": "code",
   "execution_count": 94,
   "metadata": {},
   "outputs": [
    {
     "name": "stdout",
     "output_type": "stream",
     "text": [
      "Zo’n knapperige, friszoete, sappige appel - dat kan alleen een JAZZ™ appel zijn!\n",
      "['Stevig, knapperig en sappig', 'Bereiden: de appel wassen en eventueel schillen', 'Bewaren: appels na aankoop bewaren in de koelkast', 'Geschikt voor: snack, salade']\n"
     ]
    }
   ],
   "source": [
    "summary_tag = soup.find_all(class_=\"product-summary\")\n",
    "summary = summary_tag[0].find('p').contents[0]\n",
    "summary_detail = [s.contents[0] for s in summary_tag[0].find_all('li')]\n",
    "print(summary)\n",
    "print(summary_detail)"
   ]
  },
  {
   "cell_type": "code",
   "execution_count": 105,
   "metadata": {},
   "outputs": [
    {
     "data": {
      "text/plain": [
       "\"Ingrediënten: Sprankelend water; kleurstof: E150d; voedingszuren: E338, E330; zoetstoffen: aspartaam, acesulfaam-K; natuurlijke aroma's (plantenextracten), waaronder cafeïne.\""
      ]
     },
     "execution_count": 105,
     "metadata": {},
     "output_type": "execute_result"
    }
   ],
   "source": [
    "ingredients_block = soup.find_all(class_=\"product-info-content-block product-info-ingredients\")\n",
    "if len(ingredients_block) != 0:\n",
    "    ingredients = soup.find_all(class_=\"product-info-content-block product-info-ingredients\")[0].find('p').contents[0]\n",
    "else:\n",
    "    ingredients = ''\n",
    "ingredients"
   ]
  },
  {
   "cell_type": "code",
   "execution_count": 126,
   "metadata": {},
   "outputs": [
    {
     "data": {
      "text/plain": [
       "{'Soort': 'Per 100 Milliliter.',\n",
       " 'Energie': '1 kJ (0.2 kcal)',\n",
       " 'Vet': '0 g',\n",
       " 'Waarvan verzadigd': '0 g',\n",
       " 'Koolhydraten': '0 g',\n",
       " 'Waarvan suikers': '0 g',\n",
       " 'Eiwitten': '0 g',\n",
       " 'Zout': '0 g'}"
      ]
     },
     "execution_count": 126,
     "metadata": {},
     "output_type": "execute_result"
    }
   ],
   "source": [
    "nutri_tag = soup.find(class_=\"product-info-nutritions__table\")\n",
    "nutri_unit = nutri_tag.find_all('th')[1].contents[0]\n",
    "keys = [nt.find_all()[0].contents[0] for nt in nutri_tag.find_all('tr')]\n",
    "values = [nt.find_all()[1].contents[0] for nt in nutri_tag.find_all('tr')]\n",
    "nutritional_info = dict(zip(keys, values))\n",
    "nutritional_info"
   ]
  },
  {
   "cell_type": "code",
   "execution_count": 117,
   "metadata": {},
   "outputs": [
    {
     "data": {
      "text/plain": [
       "['Soort',\n",
       " 'Per 100 Milliliter.',\n",
       " 'Energie',\n",
       " '1 kJ (0.2 kcal)',\n",
       " 'Vet',\n",
       " '0 g',\n",
       " 'Waarvan verzadigd',\n",
       " '0 g',\n",
       " 'Koolhydraten',\n",
       " '0 g',\n",
       " 'Waarvan suikers',\n",
       " '0 g',\n",
       " 'Eiwitten',\n",
       " '0 g',\n",
       " 'Zout',\n",
       " '0 g']"
      ]
     },
     "execution_count": 117,
     "metadata": {},
     "output_type": "execute_result"
    }
   ],
   "source": [
    "[td.contents[0] for nt in nutri_tag.find_all('tr') for td in nt.find_all()]"
   ]
  },
  {
   "cell_type": "code",
   "execution_count": 121,
   "metadata": {},
   "outputs": [],
   "source": [
    "keys = [nt.find_all()[0].contents[0] for nt in nutri_tag.find_all('tr')]\n",
    "values = [nt.find_all()[1].contents[0] for nt in nutri_tag.find_all('tr')]"
   ]
  },
  {
   "cell_type": "code",
   "execution_count": 124,
   "metadata": {},
   "outputs": [
    {
     "data": {
      "text/plain": [
       "{'Soort': 'Per 100 Milliliter.',\n",
       " 'Energie': '1 kJ (0.2 kcal)',\n",
       " 'Vet': '0 g',\n",
       " 'Waarvan verzadigd': '0 g',\n",
       " 'Koolhydraten': '0 g',\n",
       " 'Waarvan suikers': '0 g',\n",
       " 'Eiwitten': '0 g',\n",
       " 'Zout': '0 g'}"
      ]
     },
     "execution_count": 124,
     "metadata": {},
     "output_type": "execute_result"
    }
   ],
   "source": [
    "dict(zip(keys, values))"
   ]
  },
  {
   "cell_type": "code",
   "execution_count": 129,
   "metadata": {},
   "outputs": [],
   "source": [
    "url = 'https://www.ah.nl/producten/product/wi130876/coca-cola-light'\n",
    "product = ahs.get_product_info(url)"
   ]
  },
  {
   "cell_type": "code",
   "execution_count": 130,
   "metadata": {},
   "outputs": [
    {
     "data": {
      "text/plain": [
       "{'name': 'Coca-Cola Zero sugar',\n",
       " 'unit_price': 'Prijs per   LT  €   1,79',\n",
       " 'unit': '1 l',\n",
       " 'is_promo': False,\n",
       " 'price_original': 1.79,\n",
       " 'price_promo': nan,\n",
       " 'summary': 'Coca-Cola zero sugar heeft de geweldige Coca-Cola smaak, maar dan zonder suiker. De 1L PET is de ideale fles om samen te delen tijdens de maaltijd.',\n",
       " 'summary_detail': ['frisdrank met plantenextracten, met zoetstoffen',\n",
       "  'zero sugar',\n",
       "  'bevat geen toevoegde conserveermiddelen',\n",
       "  'bevat een bron van fenylalanine'],\n",
       " 'ingredients': \"Ingrediënten: Sprankelend water; kleurstof: E150d; voedingszuren: E338, E331; zoetstoffen: aspartaam, acesulfaam-K; natuurlijke aroma's (plantenextracten), waaronder cafeïne.\",\n",
       " 'nutritional_info': {'Soort': 'Per 100 Milliliter.',\n",
       "  'Energie': '1.4 kJ (0.3 kcal)',\n",
       "  'Vet': '0 g',\n",
       "  'Waarvan verzadigd': '0 g',\n",
       "  'Koolhydraten': '0 g',\n",
       "  'Waarvan suikers': '0 g',\n",
       "  'Eiwitten': '0 g',\n",
       "  'Zout': '0.02 g'},\n",
       " 'link': 'https://www.ah.nl/producten/product/wi137741/coca-cola-zero-sugar'}"
      ]
     },
     "execution_count": 130,
     "metadata": {},
     "output_type": "execute_result"
    }
   ],
   "source": [
    "product"
   ]
  },
  {
   "cell_type": "code",
   "execution_count": null,
   "metadata": {},
   "outputs": [],
   "source": []
  }
 ],
 "metadata": {
  "kernelspec": {
   "display_name": "Python 3",
   "language": "python",
   "name": "python3"
  },
  "language_info": {
   "codemirror_mode": {
    "name": "ipython",
    "version": 3
   },
   "file_extension": ".py",
   "mimetype": "text/x-python",
   "name": "python",
   "nbconvert_exporter": "python",
   "pygments_lexer": "ipython3",
   "version": "3.8.5"
  }
 },
 "nbformat": 4,
 "nbformat_minor": 4
}
